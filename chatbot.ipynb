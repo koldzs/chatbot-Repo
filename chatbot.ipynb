{
 "cells": [
  {
   "cell_type": "code",
   "execution_count": 2,
   "metadata": {},
   "outputs": [
    {
     "name": "stdout",
     "output_type": "stream",
     "text": [
      "Collecting nltk\n",
      "  Obtaining dependency information for nltk from https://files.pythonhosted.org/packages/a6/0a/0d20d2c0f16be91b9fa32a77b76c60f9baf6eba419e5ef5deca17af9c582/nltk-3.8.1-py3-none-any.whl.metadata\n",
      "  Downloading nltk-3.8.1-py3-none-any.whl.metadata (2.8 kB)\n",
      "Collecting click (from nltk)\n",
      "  Obtaining dependency information for click from https://files.pythonhosted.org/packages/00/2e/d53fa4befbf2cfa713304affc7ca780ce4fc1fd8710527771b58311a3229/click-8.1.7-py3-none-any.whl.metadata\n",
      "  Downloading click-8.1.7-py3-none-any.whl.metadata (3.0 kB)\n",
      "Requirement already satisfied: joblib in c:\\users\\mr lawal\\appdata\\local\\programs\\python\\python311\\lib\\site-packages (from nltk) (1.3.2)\n",
      "Collecting regex>=2021.8.3 (from nltk)\n",
      "  Obtaining dependency information for regex>=2021.8.3 from https://files.pythonhosted.org/packages/a8/01/18232f93672c1d530834e2e0568a80eaab1df12d67ae499b1762ab462b5c/regex-2023.12.25-cp311-cp311-win_amd64.whl.metadata\n",
      "  Downloading regex-2023.12.25-cp311-cp311-win_amd64.whl.metadata (41 kB)\n",
      "     ---------------------------------------- 0.0/42.0 kB ? eta -:--:--\n",
      "     ----------------------------- ---------- 30.7/42.0 kB ? eta -:--:--\n",
      "     ----------------------------- ---------- 30.7/42.0 kB ? eta -:--:--\n",
      "     ----------------------------- ---------- 30.7/42.0 kB ? eta -:--:--\n",
      "     ----------------------------- ---------- 30.7/42.0 kB ? eta -:--:--\n",
      "     ----------------------------- ---------- 30.7/42.0 kB ? eta -:--:--\n",
      "     ----------------------------- ---------- 30.7/42.0 kB ? eta -:--:--\n",
      "     -------------------------------------  41.0/42.0 kB 108.9 kB/s eta 0:00:01\n",
      "     -------------------------------------  41.0/42.0 kB 108.9 kB/s eta 0:00:01\n",
      "     -------------------------------------  41.0/42.0 kB 108.9 kB/s eta 0:00:01\n",
      "     -------------------------------------  41.0/42.0 kB 108.9 kB/s eta 0:00:01\n",
      "     -------------------------------------  41.0/42.0 kB 108.9 kB/s eta 0:00:01\n",
      "     --------------------------------------- 42.0/42.0 kB 61.5 kB/s eta 0:00:00\n",
      "Collecting tqdm (from nltk)\n",
      "  Obtaining dependency information for tqdm from https://files.pythonhosted.org/packages/2a/14/e75e52d521442e2fcc9f1df3c5e456aead034203d4797867980de558ab34/tqdm-4.66.2-py3-none-any.whl.metadata\n",
      "  Downloading tqdm-4.66.2-py3-none-any.whl.metadata (57 kB)\n",
      "     ---------------------------------------- 0.0/57.6 kB ? eta -:--:--\n",
      "     ------- -------------------------------- 10.2/57.6 kB ? eta -:--:--\n",
      "     ------- -------------------------------- 10.2/57.6 kB ? eta -:--:--\n",
      "     --------------------------------- ---- 51.2/57.6 kB 372.4 kB/s eta 0:00:01\n",
      "     --------------------------------- ---- 51.2/57.6 kB 372.4 kB/s eta 0:00:01\n",
      "     --------------------------------- ---- 51.2/57.6 kB 372.4 kB/s eta 0:00:01\n",
      "     -------------------------------------- 57.6/57.6 kB 178.0 kB/s eta 0:00:00\n",
      "Requirement already satisfied: colorama in c:\\users\\mr lawal\\appdata\\roaming\\python\\python311\\site-packages (from click->nltk) (0.4.6)\n",
      "Downloading nltk-3.8.1-py3-none-any.whl (1.5 MB)\n",
      "   ---------------------------------------- 0.0/1.5 MB ? eta -:--:--\n",
      "   ---------------------------------------- 0.0/1.5 MB ? eta -:--:--\n",
      "   ---------------------------------------- 0.0/1.5 MB ? eta -:--:--\n",
      "   - -------------------------------------- 0.0/1.5 MB 326.8 kB/s eta 0:00:05\n",
      "   - -------------------------------------- 0.0/1.5 MB 326.8 kB/s eta 0:00:05\n",
      "   - -------------------------------------- 0.1/1.5 MB 302.7 kB/s eta 0:00:05\n",
      "   - -------------------------------------- 0.1/1.5 MB 302.7 kB/s eta 0:00:05\n",
      "   -- ------------------------------------- 0.1/1.5 MB 344.8 kB/s eta 0:00:05\n",
      "   -- ------------------------------------- 0.1/1.5 MB 344.8 kB/s eta 0:00:05\n",
      "   --- ------------------------------------ 0.1/1.5 MB 327.9 kB/s eta 0:00:05\n",
      "   --- ------------------------------------ 0.1/1.5 MB 327.9 kB/s eta 0:00:05\n",
      "   ---- ----------------------------------- 0.2/1.5 MB 286.7 kB/s eta 0:00:05\n",
      "   ---- ----------------------------------- 0.2/1.5 MB 317.5 kB/s eta 0:00:05\n",
      "   ---- ----------------------------------- 0.2/1.5 MB 317.5 kB/s eta 0:00:05\n",
      "   ----- ---------------------------------- 0.2/1.5 MB 318.9 kB/s eta 0:00:05\n",
      "   ----- ---------------------------------- 0.2/1.5 MB 318.9 kB/s eta 0:00:05\n",
      "   ------ --------------------------------- 0.3/1.5 MB 341.8 kB/s eta 0:00:04\n",
      "   ------ --------------------------------- 0.3/1.5 MB 341.8 kB/s eta 0:00:04\n",
      "   ------- -------------------------------- 0.3/1.5 MB 340.1 kB/s eta 0:00:04\n",
      "   ------- -------------------------------- 0.3/1.5 MB 340.1 kB/s eta 0:00:04\n",
      "   -------- ------------------------------- 0.3/1.5 MB 333.2 kB/s eta 0:00:04\n",
      "   -------- ------------------------------- 0.3/1.5 MB 333.2 kB/s eta 0:00:04\n",
      "   --------- ------------------------------ 0.4/1.5 MB 342.7 kB/s eta 0:00:04\n",
      "   --------- ------------------------------ 0.4/1.5 MB 347.6 kB/s eta 0:00:04\n",
      "   --------- ------------------------------ 0.4/1.5 MB 347.6 kB/s eta 0:00:04\n",
      "   ---------- ----------------------------- 0.4/1.5 MB 345.9 kB/s eta 0:00:04\n",
      "   ---------- ----------------------------- 0.4/1.5 MB 345.9 kB/s eta 0:00:04\n",
      "   ----------- ---------------------------- 0.5/1.5 MB 356.5 kB/s eta 0:00:03\n",
      "   ----------- ---------------------------- 0.5/1.5 MB 356.5 kB/s eta 0:00:03\n",
      "   ------------ --------------------------- 0.5/1.5 MB 354.7 kB/s eta 0:00:03\n",
      "   ------------ --------------------------- 0.5/1.5 MB 354.7 kB/s eta 0:00:03\n",
      "   ------------- -------------------------- 0.5/1.5 MB 348.9 kB/s eta 0:00:03\n",
      "   -------------- ------------------------- 0.5/1.5 MB 359.4 kB/s eta 0:00:03\n",
      "   -------------- ------------------------- 0.5/1.5 MB 347.8 kB/s eta 0:00:03\n",
      "   -------------- ------------------------- 0.6/1.5 MB 357.4 kB/s eta 0:00:03\n",
      "   -------------- ------------------------- 0.6/1.5 MB 357.4 kB/s eta 0:00:03\n",
      "   --------------- ------------------------ 0.6/1.5 MB 355.7 kB/s eta 0:00:03\n",
      "   --------------- ------------------------ 0.6/1.5 MB 355.7 kB/s eta 0:00:03\n",
      "   ---------------- ----------------------- 0.6/1.5 MB 354.1 kB/s eta 0:00:03\n",
      "   ---------------- ----------------------- 0.6/1.5 MB 354.1 kB/s eta 0:00:03\n",
      "   ---------------- ----------------------- 0.6/1.5 MB 354.1 kB/s eta 0:00:03\n",
      "   ---------------- ----------------------- 0.6/1.5 MB 354.1 kB/s eta 0:00:03\n",
      "   ------------------ --------------------- 0.7/1.5 MB 354.0 kB/s eta 0:00:03\n",
      "   ------------------ --------------------- 0.7/1.5 MB 354.0 kB/s eta 0:00:03\n",
      "   ------------------- -------------------- 0.7/1.5 MB 355.2 kB/s eta 0:00:03\n",
      "   ------------------- -------------------- 0.7/1.5 MB 355.2 kB/s eta 0:00:03\n",
      "   -------------------- ------------------- 0.8/1.5 MB 349.1 kB/s eta 0:00:03\n",
      "   -------------------- ------------------- 0.8/1.5 MB 349.1 kB/s eta 0:00:03\n",
      "   -------------------- ------------------- 0.8/1.5 MB 349.1 kB/s eta 0:00:03\n",
      "   -------------------- ------------------- 0.8/1.5 MB 341.2 kB/s eta 0:00:03\n",
      "   -------------------- ------------------- 0.8/1.5 MB 341.2 kB/s eta 0:00:03\n",
      "   -------------------- ------------------- 0.8/1.5 MB 341.2 kB/s eta 0:00:03\n",
      "   -------------------- ------------------- 0.8/1.5 MB 341.2 kB/s eta 0:00:03\n",
      "   --------------------- ------------------ 0.8/1.5 MB 325.6 kB/s eta 0:00:03\n",
      "   --------------------- ------------------ 0.8/1.5 MB 325.5 kB/s eta 0:00:03\n",
      "   --------------------- ------------------ 0.8/1.5 MB 325.5 kB/s eta 0:00:03\n",
      "   --------------------- ------------------ 0.8/1.5 MB 325.5 kB/s eta 0:00:03\n",
      "   ---------------------- ----------------- 0.8/1.5 MB 312.3 kB/s eta 0:00:03\n",
      "   ---------------------- ----------------- 0.8/1.5 MB 312.3 kB/s eta 0:00:03\n",
      "   ----------------------- ---------------- 0.9/1.5 MB 316.4 kB/s eta 0:00:03\n",
      "   ----------------------- ---------------- 0.9/1.5 MB 316.4 kB/s eta 0:00:03\n",
      "   ----------------------- ---------------- 0.9/1.5 MB 316.4 kB/s eta 0:00:03\n",
      "   ----------------------- ---------------- 0.9/1.5 MB 316.4 kB/s eta 0:00:03\n",
      "   ----------------------- ---------------- 0.9/1.5 MB 316.4 kB/s eta 0:00:03\n",
      "   ----------------------- ---------------- 0.9/1.5 MB 316.4 kB/s eta 0:00:03\n",
      "   ----------------------- ---------------- 0.9/1.5 MB 290.5 kB/s eta 0:00:03\n",
      "   ----------------------- ---------------- 0.9/1.5 MB 290.5 kB/s eta 0:00:03\n",
      "   ------------------------ --------------- 0.9/1.5 MB 290.1 kB/s eta 0:00:03\n",
      "   ------------------------ --------------- 0.9/1.5 MB 290.1 kB/s eta 0:00:03\n",
      "   ------------------------ --------------- 0.9/1.5 MB 290.1 kB/s eta 0:00:03\n",
      "   ------------------------- -------------- 1.0/1.5 MB 289.9 kB/s eta 0:00:02\n",
      "   ------------------------- -------------- 1.0/1.5 MB 289.9 kB/s eta 0:00:02\n",
      "   ------------------------- -------------- 1.0/1.5 MB 289.9 kB/s eta 0:00:02\n",
      "   ------------------------- -------------- 1.0/1.5 MB 289.9 kB/s eta 0:00:02\n",
      "   -------------------------- ------------- 1.0/1.5 MB 285.9 kB/s eta 0:00:02\n",
      "   -------------------------- ------------- 1.0/1.5 MB 285.9 kB/s eta 0:00:02\n",
      "   -------------------------- ------------- 1.0/1.5 MB 282.9 kB/s eta 0:00:02\n",
      "   -------------------------- ------------- 1.0/1.5 MB 282.9 kB/s eta 0:00:02\n",
      "   --------------------------- ------------ 1.0/1.5 MB 280.1 kB/s eta 0:00:02\n",
      "   --------------------------- ------------ 1.0/1.5 MB 280.1 kB/s eta 0:00:02\n",
      "   --------------------------- ------------ 1.0/1.5 MB 274.6 kB/s eta 0:00:02\n",
      "   --------------------------- ------------ 1.0/1.5 MB 274.6 kB/s eta 0:00:02\n",
      "   --------------------------- ------------ 1.0/1.5 MB 274.6 kB/s eta 0:00:02\n",
      "   ---------------------------- ----------- 1.1/1.5 MB 273.2 kB/s eta 0:00:02\n",
      "   ---------------------------- ----------- 1.1/1.5 MB 273.2 kB/s eta 0:00:02\n",
      "   ---------------------------- ----------- 1.1/1.5 MB 268.3 kB/s eta 0:00:02\n",
      "   ---------------------------- ----------- 1.1/1.5 MB 268.3 kB/s eta 0:00:02\n",
      "   ----------------------------- ---------- 1.1/1.5 MB 266.2 kB/s eta 0:00:02\n",
      "   ----------------------------- ---------- 1.1/1.5 MB 266.2 kB/s eta 0:00:02\n",
      "   ----------------------------- ---------- 1.1/1.5 MB 262.6 kB/s eta 0:00:02\n",
      "   ----------------------------- ---------- 1.1/1.5 MB 262.6 kB/s eta 0:00:02\n",
      "   ----------------------------- ---------- 1.1/1.5 MB 260.7 kB/s eta 0:00:02\n",
      "   ----------------------------- ---------- 1.1/1.5 MB 260.7 kB/s eta 0:00:02\n",
      "   ----------------------------- ---------- 1.1/1.5 MB 260.7 kB/s eta 0:00:02\n",
      "   ------------------------------ --------- 1.1/1.5 MB 258.9 kB/s eta 0:00:02\n",
      "   ------------------------------ --------- 1.1/1.5 MB 258.9 kB/s eta 0:00:02\n",
      "   ------------------------------ --------- 1.2/1.5 MB 255.7 kB/s eta 0:00:02\n",
      "   ------------------------------ --------- 1.2/1.5 MB 255.7 kB/s eta 0:00:02\n",
      "   ------------------------------- -------- 1.2/1.5 MB 254.1 kB/s eta 0:00:02\n",
      "   ------------------------------- -------- 1.2/1.5 MB 254.1 kB/s eta 0:00:02\n",
      "   ------------------------------- -------- 1.2/1.5 MB 250.4 kB/s eta 0:00:02\n",
      "   ------------------------------- -------- 1.2/1.5 MB 250.4 kB/s eta 0:00:02\n",
      "   ------------------------------- -------- 1.2/1.5 MB 250.4 kB/s eta 0:00:02\n",
      "   ------------------------------- -------- 1.2/1.5 MB 249.8 kB/s eta 0:00:02\n",
      "   ------------------------------- -------- 1.2/1.5 MB 249.8 kB/s eta 0:00:02\n",
      "   -------------------------------- ------- 1.2/1.5 MB 250.5 kB/s eta 0:00:02\n",
      "   -------------------------------- ------- 1.2/1.5 MB 250.5 kB/s eta 0:00:02\n",
      "   --------------------------------- ------ 1.3/1.5 MB 249.1 kB/s eta 0:00:02\n",
      "   --------------------------------- ------ 1.3/1.5 MB 249.1 kB/s eta 0:00:02\n",
      "   --------------------------------- ------ 1.3/1.5 MB 246.5 kB/s eta 0:00:01\n",
      "   --------------------------------- ------ 1.3/1.5 MB 246.5 kB/s eta 0:00:01\n",
      "   ---------------------------------- ----- 1.3/1.5 MB 245.3 kB/s eta 0:00:01\n",
      "   ---------------------------------- ----- 1.3/1.5 MB 245.3 kB/s eta 0:00:01\n",
      "   ---------------------------------- ----- 1.3/1.5 MB 245.3 kB/s eta 0:00:01\n",
      "   ---------------------------------- ----- 1.3/1.5 MB 244.8 kB/s eta 0:00:01\n",
      "   ---------------------------------- ----- 1.3/1.5 MB 244.8 kB/s eta 0:00:01\n",
      "   ---------------------------------- ----- 1.3/1.5 MB 241.7 kB/s eta 0:00:01\n",
      "   ---------------------------------- ----- 1.3/1.5 MB 241.7 kB/s eta 0:00:01\n",
      "   ----------------------------------- ---- 1.3/1.5 MB 241.3 kB/s eta 0:00:01\n",
      "   ----------------------------------- ---- 1.3/1.5 MB 241.3 kB/s eta 0:00:01\n",
      "   ----------------------------------- ---- 1.4/1.5 MB 238.5 kB/s eta 0:00:01\n",
      "   ----------------------------------- ---- 1.4/1.5 MB 238.5 kB/s eta 0:00:01\n",
      "   ------------------------------------ --- 1.4/1.5 MB 238.1 kB/s eta 0:00:01\n",
      "   ------------------------------------ --- 1.4/1.5 MB 238.1 kB/s eta 0:00:01\n",
      "   ------------------------------------ --- 1.4/1.5 MB 237.2 kB/s eta 0:00:01\n",
      "   ------------------------------------ --- 1.4/1.5 MB 237.2 kB/s eta 0:00:01\n",
      "   ------------------------------------ --- 1.4/1.5 MB 237.2 kB/s eta 0:00:01\n",
      "   ------------------------------------- -- 1.4/1.5 MB 235.2 kB/s eta 0:00:01\n",
      "   ------------------------------------- -- 1.4/1.5 MB 235.2 kB/s eta 0:00:01\n",
      "   ------------------------------------- -- 1.4/1.5 MB 235.4 kB/s eta 0:00:01\n",
      "   ------------------------------------- -- 1.4/1.5 MB 235.4 kB/s eta 0:00:01\n",
      "   -------------------------------------- - 1.5/1.5 MB 235.1 kB/s eta 0:00:01\n",
      "   ---------------------------------------  1.5/1.5 MB 234.3 kB/s eta 0:00:01\n",
      "   ---------------------------------------  1.5/1.5 MB 232.4 kB/s eta 0:00:01\n",
      "   ---------------------------------------  1.5/1.5 MB 231.7 kB/s eta 0:00:01\n",
      "   ---------------------------------------  1.5/1.5 MB 231.7 kB/s eta 0:00:01\n",
      "   ---------------------------------------  1.5/1.5 MB 231.7 kB/s eta 0:00:01\n",
      "   ---------------------------------------  1.5/1.5 MB 231.7 kB/s eta 0:00:01\n",
      "   ---------------------------------------- 1.5/1.5 MB 227.0 kB/s eta 0:00:00\n",
      "Downloading regex-2023.12.25-cp311-cp311-win_amd64.whl (269 kB)\n",
      "   ---------------------------------------- 0.0/269.5 kB ? eta -:--:--\n",
      "   - -------------------------------------- 10.2/269.5 kB ? eta -:--:--\n",
      "   - -------------------------------------- 10.2/269.5 kB ? eta -:--:--\n",
      "   ---- ---------------------------------- 30.7/269.5 kB 262.6 kB/s eta 0:00:01\n",
      "   ---- ---------------------------------- 30.7/269.5 kB 262.6 kB/s eta 0:00:01\n",
      "   ----- --------------------------------- 41.0/269.5 kB 151.3 kB/s eta 0:00:02\n",
      "   ----- --------------------------------- 41.0/269.5 kB 151.3 kB/s eta 0:00:02\n",
      "   -------- ------------------------------ 61.4/269.5 kB 182.2 kB/s eta 0:00:02\n",
      "   -------- ------------------------------ 61.4/269.5 kB 182.2 kB/s eta 0:00:02\n",
      "   ------------- ------------------------- 92.2/269.5 kB 209.5 kB/s eta 0:00:01\n",
      "   ------------- ------------------------- 92.2/269.5 kB 209.5 kB/s eta 0:00:01\n",
      "   --------------- ---------------------- 112.6/269.5 kB 204.8 kB/s eta 0:00:01\n",
      "   --------------- ---------------------- 112.6/269.5 kB 204.8 kB/s eta 0:00:01\n",
      "   --------------- ---------------------- 112.6/269.5 kB 204.8 kB/s eta 0:00:01\n",
      "   ----------------- -------------------- 122.9/269.5 kB 184.7 kB/s eta 0:00:01\n",
      "   ----------------- -------------------- 122.9/269.5 kB 184.7 kB/s eta 0:00:01\n",
      "   -------------------- ----------------- 143.4/269.5 kB 193.5 kB/s eta 0:00:01\n",
      "   -------------------- ----------------- 143.4/269.5 kB 193.5 kB/s eta 0:00:01\n",
      "   --------------------- ---------------- 153.6/269.5 kB 179.9 kB/s eta 0:00:01\n",
      "   ------------------------ ------------- 174.1/269.5 kB 190.5 kB/s eta 0:00:01\n",
      "   ------------------------ ------------- 174.1/269.5 kB 190.5 kB/s eta 0:00:01\n",
      "   ------------------------ ------------- 174.1/269.5 kB 190.5 kB/s eta 0:00:01\n",
      "   ------------------------ ------------- 174.1/269.5 kB 190.5 kB/s eta 0:00:01\n",
      "   ------------------------ ------------- 174.1/269.5 kB 190.5 kB/s eta 0:00:01\n",
      "   ---------------------------- --------- 204.8/269.5 kB 183.0 kB/s eta 0:00:01\n",
      "   ---------------------------- --------- 204.8/269.5 kB 183.0 kB/s eta 0:00:01\n",
      "   ---------------------------- --------- 204.8/269.5 kB 183.0 kB/s eta 0:00:01\n",
      "   ---------------------------- --------- 204.8/269.5 kB 183.0 kB/s eta 0:00:01\n",
      "   ------------------------------- ------ 225.3/269.5 kB 169.9 kB/s eta 0:00:01\n",
      "   ------------------------------- ------ 225.3/269.5 kB 169.9 kB/s eta 0:00:01\n",
      "   ------------------------------------ - 256.0/269.5 kB 178.7 kB/s eta 0:00:01\n",
      "   ------------------------------------ - 256.0/269.5 kB 178.7 kB/s eta 0:00:01\n",
      "   -------------------------------------  266.2/269.5 kB 172.4 kB/s eta 0:00:01\n",
      "   -------------------------------------  266.2/269.5 kB 172.4 kB/s eta 0:00:01\n",
      "   -------------------------------------  266.2/269.5 kB 172.4 kB/s eta 0:00:01\n",
      "   -------------------------------------- 269.5/269.5 kB 164.3 kB/s eta 0:00:00\n",
      "Downloading click-8.1.7-py3-none-any.whl (97 kB)\n",
      "   ---------------------------------------- 0.0/97.9 kB ? eta -:--:--\n",
      "   ---------------------------------------- 0.0/97.9 kB ? eta -:--:--\n",
      "   ---- ----------------------------------- 10.2/97.9 kB ? eta -:--:--\n",
      "   ------------ --------------------------- 30.7/97.9 kB 1.4 MB/s eta 0:00:01\n",
      "   ---------------- ----------------------- 41.0/97.9 kB 281.8 kB/s eta 0:00:01\n",
      "   ---------------- ----------------------- 41.0/97.9 kB 281.8 kB/s eta 0:00:01\n",
      "   ---------------- ----------------------- 41.0/97.9 kB 281.8 kB/s eta 0:00:01\n",
      "   ------------------------- -------------- 61.4/97.9 kB 233.8 kB/s eta 0:00:01\n",
      "   ------------------------- -------------- 61.4/97.9 kB 233.8 kB/s eta 0:00:01\n",
      "   ------------------------- -------------- 61.4/97.9 kB 233.8 kB/s eta 0:00:01\n",
      "   ----------------------------- ---------- 71.7/97.9 kB 157.5 kB/s eta 0:00:01\n",
      "   ------------------------------------- -- 92.2/97.9 kB 210.1 kB/s eta 0:00:01\n",
      "   ------------------------------------- -- 92.2/97.9 kB 210.1 kB/s eta 0:00:01\n",
      "   ------------------------------------- -- 92.2/97.9 kB 210.1 kB/s eta 0:00:01\n",
      "   ---------------------------------------- 97.9/97.9 kB 160.3 kB/s eta 0:00:00\n",
      "Downloading tqdm-4.66.2-py3-none-any.whl (78 kB)\n",
      "   ---------------------------------------- 0.0/78.3 kB ? eta -:--:--\n",
      "   ---------------------------------------- 0.0/78.3 kB ? eta -:--:--\n",
      "   ---------------------------------------- 0.0/78.3 kB ? eta -:--:--\n",
      "   --------------- ------------------------ 30.7/78.3 kB 1.3 MB/s eta 0:00:01\n",
      "   --------------- ------------------------ 30.7/78.3 kB 1.3 MB/s eta 0:00:01\n",
      "   -------------------- ------------------- 41.0/78.3 kB 279.3 kB/s eta 0:00:01\n",
      "   -------------------- ------------------- 41.0/78.3 kB 279.3 kB/s eta 0:00:01\n",
      "   ------------------------------- -------- 61.4/78.3 kB 233.8 kB/s eta 0:00:01\n",
      "   ------------------------------- -------- 61.4/78.3 kB 233.8 kB/s eta 0:00:01\n",
      "   ------------------------------------ --- 71.7/78.3 kB 196.3 kB/s eta 0:00:01\n",
      "   ------------------------------------ --- 71.7/78.3 kB 196.3 kB/s eta 0:00:01\n",
      "   ------------------------------------ --- 71.7/78.3 kB 196.3 kB/s eta 0:00:01\n",
      "   ------------------------------------ --- 71.7/78.3 kB 196.3 kB/s eta 0:00:01\n",
      "   ------------------------------------ --- 71.7/78.3 kB 196.3 kB/s eta 0:00:01\n",
      "   ------------------------------------ --- 71.7/78.3 kB 196.3 kB/s eta 0:00:01\n",
      "   ------------------------------------ --- 71.7/78.3 kB 196.3 kB/s eta 0:00:01\n",
      "   ------------------------------------ --- 71.7/78.3 kB 196.3 kB/s eta 0:00:01\n",
      "   ------------------------------------ --- 71.7/78.3 kB 196.3 kB/s eta 0:00:01\n",
      "   ------------------------------------ --- 71.7/78.3 kB 196.3 kB/s eta 0:00:01\n",
      "   ------------------------------------ --- 71.7/78.3 kB 196.3 kB/s eta 0:00:01\n",
      "   ---------------------------------------- 78.3/78.3 kB 82.2 kB/s eta 0:00:00\n",
      "Installing collected packages: tqdm, regex, click, nltk\n",
      "Successfully installed click-8.1.7 nltk-3.8.1 regex-2023.12.25 tqdm-4.66.2\n",
      "Note: you may need to restart the kernel to use updated packages.\n"
     ]
    },
    {
     "name": "stderr",
     "output_type": "stream",
     "text": [
      "\n",
      "[notice] A new release of pip is available: 23.2.1 -> 24.0\n",
      "[notice] To update, run: python.exe -m pip install --upgrade pip\n"
     ]
    }
   ],
   "source": [
    "pip install nltk"
   ]
  },
  {
   "cell_type": "code",
   "execution_count": 3,
   "metadata": {},
   "outputs": [
    {
     "name": "stderr",
     "output_type": "stream",
     "text": [
      "[nltk_data] Downloading package stopwords to C:\\Users\\MR\n",
      "[nltk_data]     LAWAL\\AppData\\Roaming\\nltk_data...\n",
      "[nltk_data]   Unzipping corpora\\stopwords.zip.\n",
      "[nltk_data] Downloading package punkt to C:\\Users\\MR\n",
      "[nltk_data]     LAWAL\\AppData\\Roaming\\nltk_data...\n",
      "[nltk_data]   Unzipping tokenizers\\punkt.zip.\n",
      "[nltk_data] Downloading package wordnet to C:\\Users\\MR\n",
      "[nltk_data]     LAWAL\\AppData\\Roaming\\nltk_data...\n"
     ]
    },
    {
     "data": {
      "text/plain": [
       "True"
      ]
     },
     "execution_count": 3,
     "metadata": {},
     "output_type": "execute_result"
    }
   ],
   "source": [
    "import nltk\n",
    "import random\n",
    "from sklearn.feature_extraction.text import TfidfVectorizer\n",
    "from sklearn.metrics.pairwise import cosine_similarity\n",
    "import pandas as pd\n",
    "import warnings\n",
    "warnings.filterwarnings('ignore')\n",
    "lemmatizer = nltk.stem.WordNetLemmatizer()\n",
    "\n",
    "# Download required NLTK data\n",
    "nltk.download('stopwords')\n",
    "nltk.download('punkt')\n",
    "nltk.download('wordnet')"
   ]
  },
  {
   "cell_type": "code",
   "execution_count": 4,
   "metadata": {},
   "outputs": [
    {
     "data": {
      "text/html": [
       "<div>\n",
       "<style scoped>\n",
       "    .dataframe tbody tr th:only-of-type {\n",
       "        vertical-align: middle;\n",
       "    }\n",
       "\n",
       "    .dataframe tbody tr th {\n",
       "        vertical-align: top;\n",
       "    }\n",
       "\n",
       "    .dataframe thead th {\n",
       "        text-align: right;\n",
       "    }\n",
       "</style>\n",
       "<table border=\"1\" class=\"dataframe\">\n",
       "  <thead>\n",
       "    <tr style=\"text-align: right;\">\n",
       "      <th></th>\n",
       "      <th>0</th>\n",
       "      <th>1</th>\n",
       "    </tr>\n",
       "  </thead>\n",
       "  <tbody>\n",
       "    <tr>\n",
       "      <th>0</th>\n",
       "      <td>Customer</td>\n",
       "      <td>Hi, I'm looking to buy a new phone, and I'm i...</td>\n",
       "    </tr>\n",
       "    <tr>\n",
       "      <th>1</th>\n",
       "      <td>Sales Agent</td>\n",
       "      <td>Great, we have a wide range of Samsung phones...</td>\n",
       "    </tr>\n",
       "    <tr>\n",
       "      <th>2</th>\n",
       "      <td>Customer</td>\n",
       "      <td>Well, I want a phone with a good camera, long...</td>\n",
       "    </tr>\n",
       "    <tr>\n",
       "      <th>3</th>\n",
       "      <td>Sales Agent</td>\n",
       "      <td>Absolutely. We have a lot of great options th...</td>\n",
       "    </tr>\n",
       "    <tr>\n",
       "      <th>4</th>\n",
       "      <td>Customer</td>\n",
       "      <td>No, I haven't. Tell me more about it.</td>\n",
       "    </tr>\n",
       "  </tbody>\n",
       "</table>\n",
       "</div>"
      ],
      "text/plain": [
       "             0                                                  1\n",
       "0     Customer   Hi, I'm looking to buy a new phone, and I'm i...\n",
       "1  Sales Agent   Great, we have a wide range of Samsung phones...\n",
       "2     Customer   Well, I want a phone with a good camera, long...\n",
       "3  Sales Agent   Absolutely. We have a lot of great options th...\n",
       "4     Customer              No, I haven't. Tell me more about it."
      ]
     },
     "execution_count": 4,
     "metadata": {},
     "output_type": "execute_result"
    }
   ],
   "source": [
    "data = pd.read_csv('Samsung Dialog.txt', sep = ':', header = None)\n",
    "data.head()"
   ]
  },
  {
   "cell_type": "code",
   "execution_count": 5,
   "metadata": {},
   "outputs": [
    {
     "data": {
      "text/html": [
       "<div>\n",
       "<style scoped>\n",
       "    .dataframe tbody tr th:only-of-type {\n",
       "        vertical-align: middle;\n",
       "    }\n",
       "\n",
       "    .dataframe tbody tr th {\n",
       "        vertical-align: top;\n",
       "    }\n",
       "\n",
       "    .dataframe thead th {\n",
       "        text-align: right;\n",
       "    }\n",
       "</style>\n",
       "<table border=\"1\" class=\"dataframe\">\n",
       "  <thead>\n",
       "    <tr style=\"text-align: right;\">\n",
       "      <th></th>\n",
       "      <th>Question</th>\n",
       "      <th>Answer</th>\n",
       "    </tr>\n",
       "  </thead>\n",
       "  <tbody>\n",
       "    <tr>\n",
       "      <th>0</th>\n",
       "      <td>Hi, I'm looking to buy a new phone, and I'm i...</td>\n",
       "      <td>Great, we have a wide range of Samsung phones...</td>\n",
       "    </tr>\n",
       "    <tr>\n",
       "      <th>1</th>\n",
       "      <td>Well, I want a phone with a good camera, long...</td>\n",
       "      <td>Absolutely. We have a lot of great options th...</td>\n",
       "    </tr>\n",
       "    <tr>\n",
       "      <th>2</th>\n",
       "      <td>No, I haven't. Tell me more about it.</td>\n",
       "      <td>The Galaxy S21 Ultra has a 108-megapixel came...</td>\n",
       "    </tr>\n",
       "    <tr>\n",
       "      <th>3</th>\n",
       "      <td>That sounds great. How much does it cost?</td>\n",
       "      <td>The Galaxy S21 Ultra starts at $1,199, but we...</td>\n",
       "    </tr>\n",
       "    <tr>\n",
       "      <th>4</th>\n",
       "      <td>Okay, I'm interested. But I have a few more q...</td>\n",
       "      <td>The Galaxy S21 Ultra comes with a standard on...</td>\n",
       "    </tr>\n",
       "  </tbody>\n",
       "</table>\n",
       "</div>"
      ],
      "text/plain": [
       "                                            Question  \\\n",
       "0   Hi, I'm looking to buy a new phone, and I'm i...   \n",
       "1   Well, I want a phone with a good camera, long...   \n",
       "2              No, I haven't. Tell me more about it.   \n",
       "3          That sounds great. How much does it cost?   \n",
       "4   Okay, I'm interested. But I have a few more q...   \n",
       "\n",
       "                                              Answer  \n",
       "0   Great, we have a wide range of Samsung phones...  \n",
       "1   Absolutely. We have a lot of great options th...  \n",
       "2   The Galaxy S21 Ultra has a 108-megapixel came...  \n",
       "3   The Galaxy S21 Ultra starts at $1,199, but we...  \n",
       "4   The Galaxy S21 Ultra comes with a standard on...  "
      ]
     },
     "execution_count": 5,
     "metadata": {},
     "output_type": "execute_result"
    }
   ],
   "source": [
    "cust = data.loc[data[0] == 'Customer']\n",
    "sales = data.loc[data[0] == 'Sales Agent']\n",
    "\n",
    "df = pd.DataFrame()\n",
    "df['Question'] = cust[1].reset_index(drop = True)\n",
    "df['Answer'] = sales[1].reset_index(drop = True)\n",
    "\n",
    "df.head()"
   ]
  },
  {
   "cell_type": "code",
   "execution_count": 6,
   "metadata": {},
   "outputs": [
    {
     "data": {
      "text/html": [
       "<div>\n",
       "<style scoped>\n",
       "    .dataframe tbody tr th:only-of-type {\n",
       "        vertical-align: middle;\n",
       "    }\n",
       "\n",
       "    .dataframe tbody tr th {\n",
       "        vertical-align: top;\n",
       "    }\n",
       "\n",
       "    .dataframe thead th {\n",
       "        text-align: right;\n",
       "    }\n",
       "</style>\n",
       "<table border=\"1\" class=\"dataframe\">\n",
       "  <thead>\n",
       "    <tr style=\"text-align: right;\">\n",
       "      <th></th>\n",
       "      <th>Question</th>\n",
       "      <th>Answer</th>\n",
       "      <th>tokenized Questions</th>\n",
       "    </tr>\n",
       "  </thead>\n",
       "  <tbody>\n",
       "    <tr>\n",
       "      <th>0</th>\n",
       "      <td>Hi, I'm looking to buy a new phone, and I'm i...</td>\n",
       "      <td>Great, we have a wide range of Samsung phones...</td>\n",
       "      <td>hi i looking to buy a new phone and i interest...</td>\n",
       "    </tr>\n",
       "    <tr>\n",
       "      <th>1</th>\n",
       "      <td>Well, I want a phone with a good camera, long...</td>\n",
       "      <td>Absolutely. We have a lot of great options th...</td>\n",
       "      <td>well i want a phone with a good camera long ba...</td>\n",
       "    </tr>\n",
       "    <tr>\n",
       "      <th>2</th>\n",
       "      <td>No, I haven't. Tell me more about it.</td>\n",
       "      <td>The Galaxy S21 Ultra has a 108-megapixel came...</td>\n",
       "      <td>no i have tell me more about it</td>\n",
       "    </tr>\n",
       "    <tr>\n",
       "      <th>3</th>\n",
       "      <td>That sounds great. How much does it cost?</td>\n",
       "      <td>The Galaxy S21 Ultra starts at $1,199, but we...</td>\n",
       "      <td>that sound great how much doe it cost</td>\n",
       "    </tr>\n",
       "    <tr>\n",
       "      <th>4</th>\n",
       "      <td>Okay, I'm interested. But I have a few more q...</td>\n",
       "      <td>The Galaxy S21 Ultra comes with a standard on...</td>\n",
       "      <td>okay i interested but i have a few more questi...</td>\n",
       "    </tr>\n",
       "  </tbody>\n",
       "</table>\n",
       "</div>"
      ],
      "text/plain": [
       "                                            Question  \\\n",
       "0   Hi, I'm looking to buy a new phone, and I'm i...   \n",
       "1   Well, I want a phone with a good camera, long...   \n",
       "2              No, I haven't. Tell me more about it.   \n",
       "3          That sounds great. How much does it cost?   \n",
       "4   Okay, I'm interested. But I have a few more q...   \n",
       "\n",
       "                                              Answer  \\\n",
       "0   Great, we have a wide range of Samsung phones...   \n",
       "1   Absolutely. We have a lot of great options th...   \n",
       "2   The Galaxy S21 Ultra has a 108-megapixel came...   \n",
       "3   The Galaxy S21 Ultra starts at $1,199, but we...   \n",
       "4   The Galaxy S21 Ultra comes with a standard on...   \n",
       "\n",
       "                                 tokenized Questions  \n",
       "0  hi i looking to buy a new phone and i interest...  \n",
       "1  well i want a phone with a good camera long ba...  \n",
       "2                    no i have tell me more about it  \n",
       "3              that sound great how much doe it cost  \n",
       "4  okay i interested but i have a few more questi...  "
      ]
     },
     "execution_count": 6,
     "metadata": {},
     "output_type": "execute_result"
    }
   ],
   "source": [
    "def preprocess_text(text):\n",
    "    # Identifies all sentences in the data\n",
    "    sentences = nltk.sent_tokenize(text)\n",
    "\n",
    "    # Tokenize and lemmatize each word in each sentence\n",
    "    preprocessed_sentences = []\n",
    "    for sentence in sentences:\n",
    "        tokens = [lemmatizer.lemmatize(word.lower()) for word in nltk.word_tokenize(sentence) if word.isalnum()]\n",
    "        # Turns to basic root - each word in the tokenized word found in the tokenized sentence - if they are all alphanumeric\n",
    "        # The code above does the following:\n",
    "        # Identifies every word in the sentence\n",
    "        # Turns it to a lower case\n",
    "        # Lemmatizes it if the word is alphanumeric\n",
    "\n",
    "        preprocessed_sentence = ' '.join(tokens)\n",
    "        preprocessed_sentences.append(preprocessed_sentence)\n",
    "\n",
    "    return ' '.join(preprocessed_sentences)\n",
    "\n",
    "\n",
    "df['tokenized Questions'] = df['Question'].apply(preprocess_text)\n",
    "df.head()# Define a function for text preprocessing (including lemmatization)\n"
   ]
  },
  {
   "cell_type": "code",
   "execution_count": 7,
   "metadata": {},
   "outputs": [
    {
     "data": {
      "text/plain": [
       "['hi i looking to buy a new phone and i interested in samsung phone',\n",
       " 'well i want a phone with a good camera long battery life and plenty of storage',\n",
       " 'no i have tell me more about it',\n",
       " 'that sound great how much doe it cost',\n",
       " 'okay i interested but i have a few more question what kind of warranty come with the phone',\n",
       " 'that good to know and what about the operating system doe it come with the latest version of android',\n",
       " 'okay that good but i also interested in some of the other samsung phone can you tell me more about the galaxy a52',\n",
       " 'that sound like a good option for me how much doe it cost',\n",
       " 'okay i think about it but can you also tell me about the galaxy z fold2 i heard a lot about it and i curious',\n",
       " 'that sound really cool but it also sound expensive how much doe it cost',\n",
       " 'hmm i not sure that a lot of money for a phone',\n",
       " 'okay can you tell me more about the galaxy a72',\n",
       " 'that sound like a great option for me how much doe it cost',\n",
       " 'okay i definitely consider it but before i make a decision can you tell me more about the financing option',\n",
       " 'that good to know and what if i have issue with the phone do you offer any support',\n",
       " 'okay that sound great i think i interested in the galaxy a72 how do i go about buying it',\n",
       " 'okay that sound simple enough thanks for all your help']"
      ]
     },
     "execution_count": 7,
     "metadata": {},
     "output_type": "execute_result"
    }
   ],
   "source": [
    "x = df['tokenized Questions'].to_list()\n",
    "x"
   ]
  },
  {
   "cell_type": "code",
   "execution_count": 8,
   "metadata": {},
   "outputs": [],
   "source": [
    "# Vectorize corpus\n",
    "tfidf_vectorizer = TfidfVectorizer()\n",
    "corpus = tfidf_vectorizer.fit_transform(x)\n",
    "# TDIDF is a numerical statistic used to evaluate how important a word is to a document in a collection or corpus.\n",
    "# The TfidfVectorizer calculates the Tfidf values for each word in the corpus and uses them\n",
    "# to create a matrix where each row represents a document and each column represents a word.\n",
    "# The cell values in the matrix correspond to the importance of each word in each document."
   ]
  },
  {
   "cell_type": "code",
   "execution_count": 9,
   "metadata": {},
   "outputs": [
    {
     "name": "stdout",
     "output_type": "stream",
     "text": [
      "  (0, 71)\t0.3011232459093611\n",
      "  (0, 41)\t0.2700934382194581\n",
      "  (0, 42)\t0.2460248494975018\n",
      "  (0, 5)\t0.22635938061087743\n",
      "  (0, 67)\t0.4194649271573511\n",
      "  (0, 58)\t0.34485730351794186\n",
      "  (0, 11)\t0.34485730351794186\n",
      "  (0, 84)\t0.2700934382194581\n",
      "  (0, 51)\t0.34485730351794186\n",
      "  (0, 37)\t0.34485730351794186\n"
     ]
    }
   ],
   "source": [
    "print(corpus[0])"
   ]
  },
  {
   "cell_type": "code",
   "execution_count": 10,
   "metadata": {},
   "outputs": [
    {
     "data": {
      "text/plain": [
       "'can you tell me about samsung galazy fold z'"
      ]
     },
     "execution_count": 10,
     "metadata": {},
     "output_type": "execute_result"
    }
   ],
   "source": [
    "user = input('pls ask your question: ')\n",
    "user"
   ]
  },
  {
   "cell_type": "code",
   "execution_count": 11,
   "metadata": {},
   "outputs": [
    {
     "data": {
      "text/plain": [
       "'can you tell me about samsung galazy fold z'"
      ]
     },
     "execution_count": 11,
     "metadata": {},
     "output_type": "execute_result"
    }
   ],
   "source": [
    "pre_user = preprocess_text(user)\n",
    "pre_user"
   ]
  },
  {
   "cell_type": "code",
   "execution_count": 12,
   "metadata": {},
   "outputs": [
    {
     "name": "stdout",
     "output_type": "stream",
     "text": [
      "  (0, 91)\t0.3940483529904176\n",
      "  (0, 79)\t0.3940483529904176\n",
      "  (0, 71)\t0.5241979315259283\n",
      "  (0, 54)\t0.3400313973828437\n",
      "  (0, 14)\t0.4282821700500242\n",
      "  (0, 2)\t0.3400313973828437\n"
     ]
    }
   ],
   "source": [
    "vect_user =tfidf_vectorizer.transform([pre_user])\n",
    "print(vect_user)"
   ]
  },
  {
   "cell_type": "code",
   "execution_count": 13,
   "metadata": {},
   "outputs": [
    {
     "data": {
      "text/plain": [
       "array([[0.15784818, 0.        , 0.35106848, 0.        , 0.        ,\n",
       "        0.05585161, 0.48547037, 0.08326295, 0.44750028, 0.        ,\n",
       "        0.        , 0.58149748, 0.08187777, 0.37576539, 0.07786208,\n",
       "        0.06522357, 0.        ]])"
      ]
     },
     "execution_count": 13,
     "metadata": {},
     "output_type": "execute_result"
    }
   ],
   "source": [
    "similarity_scores = cosine_similarity(vect_user,corpus)\n",
    "similarity_scores"
   ]
  },
  {
   "cell_type": "code",
   "execution_count": 14,
   "metadata": {},
   "outputs": [
    {
     "data": {
      "text/plain": [
       "11"
      ]
     },
     "execution_count": 14,
     "metadata": {},
     "output_type": "execute_result"
    }
   ],
   "source": [
    "most_similarity_index = similarity_scores.argmax()\n",
    "most_similarity_index"
   ]
  },
  {
   "cell_type": "code",
   "execution_count": 15,
   "metadata": {},
   "outputs": [
    {
     "data": {
      "text/plain": [
       "' Sure, the Galaxy A72 is another great mid-range phone that has a lot of the same features as the A52, but with a bigger display, bigger battery, and more cameras. It has a 6.7-inch Super AMOLED display, a 5,000mAh battery, and four cameras, including a 64-megapixel main camera, a 12-megapixel ultra-wide camera, an 8-megapixel telephoto camera, and a 5-megapixel macro camera. It also has up to 256GB of storage and runs on Android 11.'"
      ]
     },
     "execution_count": 15,
     "metadata": {},
     "output_type": "execute_result"
    }
   ],
   "source": [
    "df['Answer'].iloc[most_similarity_index]"
   ]
  },
  {
   "cell_type": "code",
   "execution_count": 16,
   "metadata": {},
   "outputs": [
    {
     "data": {
      "text/plain": [
       "' Sure, the Galaxy A72 is another great mid-range phone that has a lot of the same features as the A52, but with a bigger display, bigger battery, and more cameras. It has a 6.7-inch Super AMOLED display, a 5,000mAh battery, and four cameras, including a 64-megapixel main camera, a 12-megapixel ultra-wide camera, an 8-megapixel telephoto camera, and a 5-megapixel macro camera. It also has up to 256GB of storage and runs on Android 11.'"
      ]
     },
     "execution_count": 16,
     "metadata": {},
     "output_type": "execute_result"
    }
   ],
   "source": [
    "def collector():\n",
    "    user = input('Please ask your question')\n",
    "    pre_user = preprocess_text(user)\n",
    "    vect_user = tfidf_vectorizer.transform([pre_user])\n",
    "    similarity_scores = cosine_similarity(vect_user, corpus)\n",
    "    most_similarity_index = similarity_scores.argmax()\n",
    "    return(df['Answer'].iloc[most_similarity_index])\n",
    "\n",
    "collector()"
   ]
  },
  {
   "cell_type": "code",
   "execution_count": 17,
   "metadata": {},
   "outputs": [
    {
     "name": "stdout",
     "output_type": "stream",
     "text": [
      "\n",
      "Chatbot:  The Galaxy S21 Ultra starts at $1,199, but we have some great financing options that make it affordable for everyone.\n",
      "\n",
      "Chatbot:  Sure, the Galaxy A72 is another great mid-range phone that has a lot of the same features as the A52, but with a bigger display, bigger battery, and more cameras. It has a 6.7-inch Super AMOLED display, a 5,000mAh battery, and four cameras, including a 64-megapixel main camera, a 12-megapixel ultra-wide camera, an 8-megapixel telephoto camera, and a 5-megapixel macro camera. It also has up to 256GB of storage and runs on Android 11.\n",
      "\n",
      "Chatbot:  Great, we have a wide range of Samsung phones to choose from. What features are you looking for in a phone?\n",
      "\n",
      "Chatbot: Hi GomyCode Student.... How can I be of use!\n",
      "\n",
      "Chatbot: Babye, See you soon!\n"
     ]
    }
   ],
   "source": [
    "def get_response(user_input):\n",
    "    user_input_processed = preprocess_text(user_input) # ....................... Preprocess the user's input using the preprocess_text function\n",
    "\n",
    "    user_input_vector = tfidf_vectorizer.transform([user_input_processed])# .... Vectorize the preprocessed user input using the TF-IDF vectorizer\n",
    "\n",
    "    similarity_scores = cosine_similarity(user_input_vector, corpus) # .. Calculate the score of similarity between the user input vector and the corpus (df) vector\n",
    "\n",
    "    most_similar_index = similarity_scores.argmax() # ..... Find the index of the most similar question in the corpus (df) based on cosine similarity\n",
    "\n",
    "    return df['Answer'].iloc[most_similar_index] # ... Retrieve the corresponding answer from the df DataFrame and return it as the chatbot's response\n",
    "\n",
    "# create greeting list\n",
    "greetings = [\"Hey There.... I am a creation of Ehiz Danny Agba Coder.... How can I help\",\n",
    "            \"Hi Human.... How can I help\",\n",
    "            'Twale baba nla, wetin dey happen nah',\n",
    "            'How far Alaye, wetin happen'\n",
    "            \"Good Day .... How can I help\",\n",
    "            \"Hello There... How can I be useful to you today\",\n",
    "            \"Hi GomyCode Student.... How can I be of use\"]\n",
    "\n",
    "exits = ['thanks bye', 'bye', 'quit', 'exit', 'bye bye', 'close']\n",
    "farewell = ['Thanks....see you soon', 'Babye, See you soon', 'Bye... See you later', 'Bye... come back soon']\n",
    "\n",
    "random_farewell = random.choice(farewell) # ---------------- Randomly select a farewell message from the list\n",
    "random_greetings = random.choice(greetings) # -------- Randomly select greeting message from the list\n",
    "\n",
    "# Test your chatbot\n",
    "while True:\n",
    "    user_input = input(\"You: \")\n",
    "    if user_input.lower() in exits:\n",
    "        print(f\"\\nChatbot: {random_farewell}!\")\n",
    "        break\n",
    "    if user_input.lower() in ['hi', 'hello', 'hey', 'hi there']:\n",
    "        print(f\"\\nChatbot: {random_greetings}!\")\n",
    "    else:\n",
    "        response = get_response(user_input)\n",
    "        print(f\"\\nChatbot: {response}\")"
   ]
  }
 ],
 "metadata": {
  "kernelspec": {
   "display_name": "Python 3",
   "language": "python",
   "name": "python3"
  },
  "language_info": {
   "codemirror_mode": {
    "name": "ipython",
    "version": 3
   },
   "file_extension": ".py",
   "mimetype": "text/x-python",
   "name": "python",
   "nbconvert_exporter": "python",
   "pygments_lexer": "ipython3",
   "version": "3.11.7"
  }
 },
 "nbformat": 4,
 "nbformat_minor": 2
}
